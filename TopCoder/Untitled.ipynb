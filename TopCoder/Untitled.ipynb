{
 "cells": [
  {
   "cell_type": "code",
   "execution_count": 1,
   "metadata": {
    "collapsed": true
   },
   "outputs": [],
   "source": [
    "def is_false(arg): return not arg\n",
    "\n",
    "\n",
    "def is_true(arg): return not is_false(arg)\n",
    "\n",
    "\n",
    "def is_sequence(arg):\n",
    "    t = type(arg)\n",
    "    return t is list or t is tuple or t is str\n",
    "\n",
    "\n",
    "def is_dict(arg):\n",
    "    t = type(arg)\n",
    "    return t is dict\n",
    "\n",
    "\n",
    "def each(seq, func):\n",
    "    if (is_false(seq)): return\n",
    "\n",
    "    if is_sequence(seq):\n",
    "        [func(x) for x in seq]\n",
    "    elif is_dict(seq):\n",
    "        [func(x) for x in seq.values()]\n",
    "\n",
    "\n",
    "def curry(func):\n",
    "    def func_a(*a):\n",
    "        def func_b(*b):\n",
    "            return func(*(a+b))\n",
    "        return func_b\n",
    "    return func_a\n",
    "\n",
    "\n",
    "def curryr(func):\n",
    "    def func_a(*a):\n",
    "        def func_b(*b):\n",
    "            return func(*(b+a))\n",
    "        return func_b\n",
    "    return func_a\n",
    "\n",
    "\n",
    "def map(obj, func):\n",
    "    if not is_sequence(obj): return []\n",
    "    _iter = obj\n",
    "    if is_dict(obj): _iter = obj.values()\n",
    "\n",
    "    return [func(x) for x in _iter]\n",
    "\n",
    "\n",
    "def filter(obj, pred):\n",
    "    if not is_sequence(obj): return []\n",
    "    _iter = obj\n",
    "    if is_dict(obj): _iter = obj.values()\n",
    "\n",
    "    return [x for x in _iter if pred(x)]\n",
    "\n",
    "\n",
    "def reject(obj, pred):\n",
    "    return filter(obj, lambda x: not pred(x))\n",
    "\n",
    "\n",
    "def reduce(obj, func, start):\n",
    "    if not is_sequence(obj): return None\n",
    "    acc = start\n",
    "\n",
    "    def reducer(x):\n",
    "        nonlocal acc\n",
    "        acc = func(acc, x)\n",
    "\n",
    "    each(obj, reducer)\n",
    "    return acc\n",
    "\n",
    "\n",
    "def pipe(*args):\n",
    "    def runner(arg):\n",
    "        return reduce(list(args), lambda acc, func: func(acc), arg)\n",
    "    return runner;\n",
    "\n",
    "\n",
    "def go(*args):\n",
    "    start = args[0]\n",
    "    rest = args[1:]\n",
    "    return pipe(*rest)(start)\n",
    "\n",
    "\n",
    "def has_key(obj, key):\n",
    "    if not is_dict(obj): return False\n",
    "    return True if key in obj.keys() else False\n",
    "\n",
    "\n",
    "def get(obj, key):\n",
    "    if not is_dict(obj): return None\n",
    "    return obj[key] if has_key(obj, key) else None\n",
    "\n",
    "def all(arg, pred):\n",
    "    if not is_sequence(arg): return False\n",
    "    for x in arg:\n",
    "        if not pred(x):\n",
    "            return False\n",
    "    return True\n",
    "\n",
    "def any(arg, pred):\n",
    "    if not is_sequence(arg): return False\n",
    "    for x in arg:\n",
    "        if pred(x):\n",
    "            return True\n",
    "    return False\n",
    "\n",
    "def sum(arg):\n",
    "    if not is_sequence(arg): return None\n",
    "    return reduce(arg,lambda a,b: a+b,0)"
   ]
  },
  {
   "cell_type": "code",
   "execution_count": 2,
   "metadata": {},
   "outputs": [
    {
     "name": "stdout",
     "output_type": "stream",
     "text": [
      "[3, 9]\n",
      "[2]\n",
      "[2, 4, 8]\n",
      "[5, 25]\n",
      "[29]\n"
     ]
    }
   ],
   "source": [
    "def sum_digit_of_base(n, base):\n",
    "    acc = 0\n",
    "    while n >= base:\n",
    "        acc += n % base\n",
    "        n //= base\n",
    "    acc += n\n",
    "    return acc\n",
    "\n",
    "is_multiple = lambda num, base: num % base == 0\n",
    "\n",
    "def brute_force_compare(num, base):\n",
    "    sum_digit_of_this = curryr(sum_digit_of_base)(base)\n",
    "    for x in range(num, 1000, num):\n",
    "        is_multiple_of_num = curryr(is_multiple)(num)\n",
    "        if go(x, sum_digit_of_this, is_multiple_of_num, is_false): return False\n",
    "    return True\n",
    "\n",
    "def digits(base):\n",
    "    return [x for x in range(2, base) if brute_force_compare(x, base)]\n",
    "\n",
    "print(digits(10))\n",
    "print(digits(3))\n",
    "print(digits(9))\n",
    "print(digits(26))\n",
    "print(digits(30))"
   ]
  },
  {
   "cell_type": "code",
   "execution_count": 3,
   "metadata": {},
   "outputs": [
    {
     "name": "stdout",
     "output_type": "stream",
     "text": [
      "100 loops, best of 3: 2.29 ms per loop\n"
     ]
    }
   ],
   "source": [
    "%timeit digits(10)"
   ]
  },
  {
   "cell_type": "code",
   "execution_count": null,
   "metadata": {
    "collapsed": true
   },
   "outputs": [],
   "source": []
  }
 ],
 "metadata": {
  "kernelspec": {
   "display_name": "Python 3",
   "language": "python",
   "name": "python3"
  },
  "language_info": {
   "codemirror_mode": {
    "name": "ipython",
    "version": 3
   },
   "file_extension": ".py",
   "mimetype": "text/x-python",
   "name": "python",
   "nbconvert_exporter": "python",
   "pygments_lexer": "ipython3",
   "version": "3.6.1"
  }
 },
 "nbformat": 4,
 "nbformat_minor": 2
}
